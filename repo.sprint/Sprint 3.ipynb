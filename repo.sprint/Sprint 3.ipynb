{
 "cells": [
  {
   "cell_type": "code",
   "execution_count": 5,
   "id": "58da28e5",
   "metadata": {},
   "outputs": [
    {
     "name": "stdout",
     "output_type": "stream",
     "text": [
      "1 2 \n",
      "3 4 \n",
      "(1, 3) (1, 4) (2, 3) (2, 4) "
     ]
    }
   ],
   "source": [
    "#q1 itertools.product()\n",
    "#https://www.hackerrank.com/challenges/itertools-product/problem?isFullScreen=false\n",
    "# Enter your code here. Read input from STDIN. Print output to STDOUT\n",
    "# itertools.product() in Python - Hacker Rank Solution START\n",
    "from itertools import product\n",
    "A = input().split()\n",
    "A = list(map(int,A))\n",
    "B = input().split()\n",
    "B = list(map(int, B))\n",
    "output = list(product(A,B))\n",
    "for i in output:\n",
    "    print(i, end = \" \");"
   ]
  },
  {
   "cell_type": "code",
   "execution_count": 1,
   "id": "4d7107f0",
   "metadata": {},
   "outputs": [
    {
     "name": "stdout",
     "output_type": "stream",
     "text": [
      "HACK 2\n",
      "AC\n",
      "AH\n",
      "AK\n",
      "CA\n",
      "CH\n",
      "CK\n",
      "HA\n",
      "HC\n",
      "HK\n",
      "KA\n",
      "KC\n",
      "KH\n"
     ]
    }
   ],
   "source": [
    "#https://www.hackerrank.com/challenges/itertools-permutations/problem?isFullScreen=false\n",
    "#q2   itertools.permutations(iterable[, r])\n",
    "# Enter your code here. Read input from STDIN. Print output to STDOUT\n",
    "from itertools import permutations\n",
    "s , n = input().split()\n",
    "\n",
    "for i in list(permutations(sorted(s),int(n))):\n",
    "    print(''.join(i))"
   ]
  },
  {
   "cell_type": "code",
   "execution_count": 6,
   "id": "fe60ef1f",
   "metadata": {},
   "outputs": [
    {
     "name": "stdout",
     "output_type": "stream",
     "text": [
      "HACK 2\n",
      "A\n",
      "C\n",
      "H\n",
      "K\n",
      "AC\n",
      "AH\n",
      "AK\n",
      "CH\n",
      "CK\n",
      "HK\n"
     ]
    }
   ],
   "source": [
    "#q3 itertools.combinations()\n",
    "#https://www.hackerrank.com/challenges/itertools-combinations/problem?isFullScreen=false\n",
    "# Enter your code here. Read input from STDIN. Print output to STDOUT\n",
    "# itertools.combinations() in Python - Hacker Rank Solution START\n",
    "from itertools import combinations\n",
    "\n",
    "io = input().split()\n",
    "S = io[0]\n",
    "k = int(io[1])\n",
    "for i in range(1,k+1):\n",
    "    for j in combinations(sorted(S),i):\n",
    "        print(\"\".join(j))"
   ]
  },
  {
   "cell_type": "code",
   "execution_count": 2,
   "id": "ef5657ae",
   "metadata": {},
   "outputs": [
    {
     "name": "stdout",
     "output_type": "stream",
     "text": [
      "HACK 2\n",
      "AA\n",
      "AC\n",
      "AH\n",
      "AK\n",
      "CC\n",
      "CH\n",
      "CK\n",
      "HH\n",
      "HK\n",
      "KK\n"
     ]
    }
   ],
   "source": [
    "#Q4 itertools.combinations_with_replacement()\n",
    "#https://www.hackerrank.com/challenges/itertools-combinations-with-replacement/problem?isFullScreen=false\n",
    "from itertools import combinations_with_replacement\n",
    "\n",
    "io = input().split();\n",
    "char = sorted(io[0]);\n",
    "N = int(io[1]);\n",
    "\n",
    "for i in combinations_with_replacement(char,N):\n",
    "    print(''.join(i));"
   ]
  },
  {
   "cell_type": "code",
   "execution_count": 7,
   "id": "a1fcd078",
   "metadata": {},
   "outputs": [
    {
     "name": "stdout",
     "output_type": "stream",
     "text": [
      "1222311\n",
      "(1, 1) (3, 2) (1, 3) (2, 1) "
     ]
    }
   ],
   "source": [
    "#q5 Compress the String!\n",
    "#https://www.hackerrank.com/challenges/compress-the-string/problem?isFullScreen=false\n",
    "# Enter your code here. Read input from STDIN. Print output to STDOUT\n",
    "# Compress the String in python - Hacker Rank Solution START\n",
    "from itertools import *\n",
    "\n",
    "io = input()\n",
    "for i,j in groupby(map(int,list(io))):\n",
    "    print(tuple([len(list(j)), i]) ,end = \" \")"
   ]
  },
  {
   "cell_type": "code",
   "execution_count": 3,
   "id": "d9079bf2",
   "metadata": {},
   "outputs": [
    {
     "name": "stdout",
     "output_type": "stream",
     "text": [
      "4\n",
      "a a c d\n",
      "2\n",
      "0.833\n"
     ]
    }
   ],
   "source": [
    "#Q6 Iterables and Iterators\n",
    "#https://www.hackerrank.com/challenges/iterables-and-iterators/problem?isFullScreen=false\n",
    "# Enter your code here. Read input from STDIN. Print output to STDOUT\n",
    "from itertools import combinations\n",
    "\n",
    "N = int(input())\n",
    "L = input().split()\n",
    "K = int(input())\n",
    "\n",
    "C = list(combinations(L, K))\n",
    "F = filter(lambda c: 'a' in c, C)\n",
    "print(\"{0:.3}\".format(len(list(F))/len(C)))\n",
    "\n"
   ]
  },
  {
   "cell_type": "code",
   "execution_count": 4,
   "id": "3444300b",
   "metadata": {},
   "outputs": [
    {
     "name": "stdout",
     "output_type": "stream",
     "text": [
      "3 1000\n",
      "2 5 4\n",
      "3 7 8 9 \n",
      "5 5 7 8 9 10 \n",
      "206\n"
     ]
    }
   ],
   "source": [
    "#Q7 Maximize It!\n",
    "#https://www.hackerrank.com/challenges/maximize-it/problem?isFullScreen=false\n",
    "# Enter your code here. Read input from STDIN. Print output to STDOUT\n",
    "from itertools import product\n",
    "K,M = map(int,input().split())\n",
    "nums = []\n",
    "for _ in range(K):\n",
    "    row = map(int,input().split()[1:])\n",
    "    nums.append(map(lambda x:x**2%M, row))\n",
    "print(max(map(lambda x: sum(x)%M, product(*nums))))\n"
   ]
  },
  {
   "cell_type": "code",
   "execution_count": null,
   "id": "5fa459ce",
   "metadata": {},
   "outputs": [],
   "source": []
  }
 ],
 "metadata": {
  "kernelspec": {
   "display_name": "Python 3 (ipykernel)",
   "language": "python",
   "name": "python3"
  },
  "language_info": {
   "codemirror_mode": {
    "name": "ipython",
    "version": 3
   },
   "file_extension": ".py",
   "mimetype": "text/x-python",
   "name": "python",
   "nbconvert_exporter": "python",
   "pygments_lexer": "ipython3",
   "version": "3.9.7"
  }
 },
 "nbformat": 4,
 "nbformat_minor": 5
}
