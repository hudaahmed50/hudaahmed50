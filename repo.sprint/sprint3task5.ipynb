{
 "cells": [
  {
   "cell_type": "code",
   "execution_count": null,
   "id": "2e984af6",
   "metadata": {},
   "outputs": [],
   "source": [
    "\n",
    "\n",
    "#https://www.hackerrank.com/challenges/xml2-find-the-maximum-depth/problem?isFullScreen=true\n",
    "#XML2 - Find the Maximum Depth\n",
    "\n",
    "import xml.etree.ElementTree as etree\n",
    "\n",
    "\n",
    "maxdepth = 0\n",
    "def depth(elem, level):\n",
    "    global maxdepth\n",
    "    # your code goes here\n",
    "\n",
    "if __name__ == '__main__':\n",
    "    n = int(input())\n",
    "    xml = \"\"\n",
    "    for i in range(n):\n",
    "        xml =  xml + input() + \"\\n\"\n",
    "    tree = etree.ElementTree(etree.fromstring(xml))\n",
    "    depth(tree.getroot(), -1)\n",
    "    print(maxdepth)"
   ]
  },
  {
   "cell_type": "code",
   "execution_count": null,
   "id": "210772b6",
   "metadata": {},
   "outputs": [],
   "source": [
    "#Words Score\n",
    "#https://www.hackerrank.com/challenges/xml-1-find-the-score/problem?isFullScreen=true\n",
    "\n",
    "\n",
    "def get_attr_number(node):\n",
    "    \n",
    "    count = 0\n",
    "    for tag in node:\n",
    "        count = count + get_attr_number(tag)\n",
    "    return count + len(node.attrib)"
   ]
  },
  {
   "cell_type": "code",
   "execution_count": null,
   "id": "99f44df6",
   "metadata": {},
   "outputs": [],
   "source": [
    "#Standardize Mobile Number Using Decorators\n",
    "\n",
    "#https://www.hackerrank.com/challenges/standardize-mobile-number-using-decorators/submissions/code/262453115\n",
    "def wrapper(f):\n",
    "    def fun(l):\n",
    "         \n",
    "        f(\"+91 \"+i[-10:-5]+\" \"+i[-5:] for i in l)\n",
    "    return fun\n",
    "\n"
   ]
  },
  {
   "cell_type": "code",
   "execution_count": null,
   "id": "e1246d69",
   "metadata": {},
   "outputs": [],
   "source": [
    "\n",
    "#https://www.hackerrank.com/challenges/decorators-2-name-directory/submissions/code/262453358\n",
    "\n",
    "#Decorators 2 - Name Directory\n",
    "\n",
    "\n",
    "def person_lister(f):\n",
    "    def inner(people):\n",
    "        return map(f, sorted(people, key=lambda x: int(x[2])))\n",
    "    return inner"
   ]
  },
  {
   "cell_type": "code",
   "execution_count": null,
   "id": "5fa59db3",
   "metadata": {},
   "outputs": [],
   "source": [
    "#https://www.hackerrank.com/challenges/np-arrays/submissions/code/262454435\n",
    "#Arrays\n",
    "\n",
    "import numpy\n",
    "\n",
    "def arrays(arr):\n",
    "return(numpy.array(arr[::-1], float))\n",
    "arr = input().strip().split(' ')\n",
    "result = arrays(arr)\n",
    "print(result)\n",
    "\n"
   ]
  },
  {
   "cell_type": "code",
   "execution_count": null,
   "id": "fa4f1038",
   "metadata": {},
   "outputs": [],
   "source": [
    "#https://www.hackerrank.com/challenges/np-shape-reshape/submissions/code/262455761\n",
    "#Shape and Reshape\n",
    "\n",
    "\n",
    "import numpy\n",
    "\n",
    "print(numpy.array(input().split(), int).reshape(3, 3))\n"
   ]
  },
  {
   "cell_type": "code",
   "execution_count": null,
   "id": "03f97f77",
   "metadata": {},
   "outputs": [],
   "source": [
    "#Transpose and Flatten\n",
    "#https://www.hackerrank.com/challenges/np-transpose-and-flatten/problem?isFullScreen=true\n",
    "\n",
    "import numpy\n",
    "n,m = map(int,input().split())\n",
    "ar = []\n",
    "for i in range(n):\n",
    "    row = list(map(int,input().split()))\n",
    "    ar.append(row)\n",
    "np_ar = numpy.array(ar)\n",
    "print(numpy.transpose(np_ar))\n",
    "print(np_ar.flatten())\n"
   ]
  },
  {
   "cell_type": "code",
   "execution_count": null,
   "id": "d4805626",
   "metadata": {},
   "outputs": [],
   "source": [
    "#Concatenate\n",
    "#https://www.hackerrank.com/challenges/np-concatenate/problem?isFullScreen=true\n",
    "\n",
    "import numpy as np\n",
    "a, b, c = map(int,input().split())\n",
    "arr1 = np.array([input().split() for _ in range(a)],int)\n",
    "arr2 = np.array([input().split() for _ in range(b)],int)\n",
    "print(np.concatenate((arr1, arr2), axis = 0))\n",
    "\n"
   ]
  },
  {
   "cell_type": "code",
   "execution_count": null,
   "id": "f0856014",
   "metadata": {},
   "outputs": [],
   "source": [
    "#Zeros and Ones\n",
    "#https://www.hackerrank.com/challenges/np-zeros-and-ones/problem?isFullScreen=true\n",
    "import numpy\n",
    "\n",
    "N = tuple(map(int, input().split()))\n",
    "print(numpy.zeros(N, int))\n",
    "print(numpy.ones(N, int))\n",
    "\n",
    "\n"
   ]
  },
  {
   "cell_type": "code",
   "execution_count": null,
   "id": "f231a584",
   "metadata": {},
   "outputs": [],
   "source": [
    "#Eye and Identity\n",
    "#https://www.hackerrank.com/challenges/np-eye-and-identity/problem?isFullScreen=true\n",
    "\n",
    "\n",
    "import numpy\n",
    "numpy.set_printoptions(legacy='1.13')\n",
    "\n",
    "m,n = map(int,input().split())\n",
    "\n",
    "print(numpy.eye(m,n,k=0))\n",
    "\n",
    "\n",
    "\n",
    "\n"
   ]
  },
  {
   "cell_type": "code",
   "execution_count": null,
   "id": "2db25dff",
   "metadata": {},
   "outputs": [],
   "source": [
    "#Array Mathematics\n",
    "#https://www.hackerrank.com/challenges/np-array-mathematics/problem?isFullScreen=true\n",
    "\n",
    "\n",
    "import numpy\n",
    "\n",
    "N, M = map(int, input().split())\n",
    "\n",
    "A = numpy.array([list(map(int, input().split())) for n in range(N)])\n",
    "B = numpy.array([list(map(int, input().split())) for n in range(N)])\n",
    "\n",
    "print(A + B)\n",
    "print(A - B)\n",
    "print(A * B)\n",
    "print(A // B)\n",
    "print(A % B)\n",
    "print(A ** B)"
   ]
  },
  {
   "cell_type": "code",
   "execution_count": null,
   "id": "00dcb3ad",
   "metadata": {},
   "outputs": [],
   "source": [
    "#Floor, Ceil and Rint\n",
    "#https://www.hackerrank.com/challenges/floor-ceil-and-rint/problem?isFullScreen=true\n",
    "import numpy\n",
    "\n",
    "\n",
    "\n",
    "numpy.set_printoptions(sign=' ')\n",
    "\n",
    "array = numpy.array(input().split(),float)\n",
    "\n",
    "print(numpy.floor(array))\n",
    "print(numpy.ceil(array))\n",
    "print(numpy.rint(array))\n",
    "\n",
    "\n"
   ]
  },
  {
   "cell_type": "code",
   "execution_count": null,
   "id": "46a21740",
   "metadata": {},
   "outputs": [],
   "source": [
    "#Inner and Outer\n",
    "#https://www.hackerrank.com/challenges/np-inner-and-outer/problem?isFullScreen=true\n",
    "import numpy as np\n",
    "A=np.array(input().split(),int)\n",
    "B=np.array(input().split(),int)\n",
    "print(np.inner(A,B))\n",
    "print(np.outer(A,B))\n",
    "\n"
   ]
  },
  {
   "cell_type": "code",
   "execution_count": null,
   "id": "00457c8c",
   "metadata": {},
   "outputs": [],
   "source": []
  },
  {
   "cell_type": "code",
   "execution_count": null,
   "id": "3d824337",
   "metadata": {},
   "outputs": [],
   "source": []
  },
  {
   "cell_type": "code",
   "execution_count": null,
   "id": "b13c7f33",
   "metadata": {},
   "outputs": [],
   "source": []
  },
  {
   "cell_type": "code",
   "execution_count": null,
   "id": "3cd34a45",
   "metadata": {},
   "outputs": [],
   "source": []
  },
  {
   "cell_type": "code",
   "execution_count": null,
   "id": "8ac1975e",
   "metadata": {},
   "outputs": [],
   "source": []
  },
  {
   "cell_type": "code",
   "execution_count": null,
   "id": "3aa5b8d0",
   "metadata": {},
   "outputs": [],
   "source": []
  },
  {
   "cell_type": "code",
   "execution_count": null,
   "id": "70c9526a",
   "metadata": {},
   "outputs": [],
   "source": []
  }
 ],
 "metadata": {
  "kernelspec": {
   "display_name": "Python 3 (ipykernel)",
   "language": "python",
   "name": "python3"
  },
  "language_info": {
   "codemirror_mode": {
    "name": "ipython",
    "version": 3
   },
   "file_extension": ".py",
   "mimetype": "text/x-python",
   "name": "python",
   "nbconvert_exporter": "python",
   "pygments_lexer": "ipython3",
   "version": "3.9.7"
  }
 },
 "nbformat": 4,
 "nbformat_minor": 5
}
