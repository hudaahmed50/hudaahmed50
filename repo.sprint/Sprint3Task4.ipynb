{
 "cells": [
  {
   "cell_type": "markdown",
   "id": "0e17e91d",
   "metadata": {},
   "source": [
    "validating and parsing email"
   ]
  },
  {
   "cell_type": "code",
   "execution_count": null,
   "id": "8d5713a4",
   "metadata": {},
   "outputs": [],
   "source": [
    "from re import match, compile\n",
    "pattern = compile('^[-+]?[0-9]*\\.[0-9]+$')\n",
    "for _ in range(int(input())):\n",
    "    print(bool(pattern.match(input())))"
   ]
  },
  {
   "cell_type": "markdown",
   "id": "5a25bad7",
   "metadata": {},
   "source": [
    "Detect Floating Point"
   ]
  },
  {
   "cell_type": "code",
   "execution_count": null,
   "id": "61bf1907",
   "metadata": {},
   "outputs": [],
   "source": [
    "from re import match, compile\n",
    "pattern = compile('^[-+]?[0-9]*\\.[0-9]+$')\n",
    "for _ in range(int(input())):\n",
    "    print(bool(pattern.match(input())))\n"
   ]
  },
  {
   "cell_type": "markdown",
   "id": "b3deb485",
   "metadata": {},
   "source": [
    "map and lambada function"
   ]
  },
  {
   "cell_type": "code",
   "execution_count": null,
   "id": "96ded8c7",
   "metadata": {},
   "outputs": [],
   "source": [
    "\n",
    "cube = lambda x: x**3\n",
    "\n",
    "def fibonacci(n):\n",
    "    if n<2:\n",
    "       return range(n)\n",
    "    init = [0,1]\n",
    "    for i in range(0,n-2):\n",
    "            add =init[i+1]+init[i]\n",
    "            init.append(add)\n",
    "    return(init)\n",
    "\n",
    "    \n",
    "    \n",
    "\n",
    "if __name__ == '__main__':\n",
    "    n = int(input())\n",
    "    print(list(map(cube, fibonacci(n))))"
   ]
  },
  {
   "cell_type": "markdown",
   "id": "01ba67ab",
   "metadata": {},
   "source": [
    "Re.split()"
   ]
  },
  {
   "cell_type": "code",
   "execution_count": null,
   "id": "85b0268f",
   "metadata": {},
   "outputs": [],
   "source": [
    "def fun(s):\n",
    "    try:\n",
    "        user, www = s.split(\"@\")\n",
    "        web, ext = www.split(\".\")\n",
    "        if not user or not web or not ext:\n",
    "            return False\n",
    "        return not any([user != \"\".join(filter(lambda x: x.isalnum() or x in [\"_\", \"-\"], user)),\n",
    "            web != \"\".join(filter(lambda x: x.isalnum(), web)) , len(ext)>3])\n",
    "    except:\n",
    "        return False\n",
    "\n",
    "def filter_mail(emails):\n",
    "    return list(filter(fun, emails))\n",
    "\n",
    "if __name__ == '__main__':\n",
    "    n = int(input())\n",
    "    emails = []\n",
    "    for _ in range(n):\n",
    "        emails.append(input())\n",
    "\n",
    "filtered_emails = filter_mail(emails)\n",
    "filtered_emails.sort()\n",
    "print(filtered_emails)"
   ]
  },
  {
   "cell_type": "markdown",
   "id": "d89457e5",
   "metadata": {},
   "source": [
    "validating  email with filter"
   ]
  },
  {
   "cell_type": "code",
   "execution_count": null,
   "id": "b42de9d9",
   "metadata": {},
   "outputs": [],
   "source": [
    "def fun(s):\n",
    "    try:\n",
    "        user, www = s.split(\"@\")\n",
    "        web, ext = www.split(\".\")\n",
    "        if not user or not web or not ext:\n",
    "            return False\n",
    "        return not any([user != \"\".join(filter(lambda x: x.isalnum() or x in [\"_\", \"-\"], user)),\n",
    "            web != \"\".join(filter(lambda x: x.isalnum(), web)) , len(ext)>3])\n",
    "    except:\n",
    "        return False\n",
    "\n",
    "def filter_mail(emails):\n",
    "    return list(filter(fun, emails))\n",
    "\n",
    "if __name__ == '__main__':\n",
    "    n = int(input())\n",
    "    emails = []\n",
    "    for _ in range(n):\n",
    "        emails.append(input())\n",
    "\n",
    "filtered_emails = filter_mail(emails)\n",
    "filtered_emails.sort()\n",
    "print(filtered_emails)"
   ]
  },
  {
   "cell_type": "markdown",
   "id": "b91625db",
   "metadata": {},
   "source": [
    "group(),groups(),groupdict()"
   ]
  },
  {
   "cell_type": "code",
   "execution_count": null,
   "id": "962deb1a",
   "metadata": {},
   "outputs": [],
   "source": [
    "import re\n",
    "m=input()\n",
    "\n",
    "al=r'([a-z0-9A-Z])\\1+'\n",
    "a=re.search(al,m)\n",
    "if a:\n",
    "    print(a.group(1))\n",
    "else:\n",
    "    print(-1)"
   ]
  },
  {
   "cell_type": "markdown",
   "id": "5b3d8c2b",
   "metadata": {},
   "source": [
    "reduce function"
   ]
  },
  {
   "cell_type": "code",
   "execution_count": null,
   "id": "2f2d3100",
   "metadata": {},
   "outputs": [],
   "source": [
    "from fractions import Fraction\n",
    "from functools import reduce\n",
    "\n",
    "def product(fracs):\n",
    "    t = reduce(lambda x,y:Fraction(x.numerator*y.numerator,x.denominator*y.denominator),fracs)\n",
    "    return t.numerator, t.denominator\n",
    "\n",
    "if __name__ == '__main__':\n",
    "    fracs = []\n",
    "    for _ in range(int(input())):\n",
    "        fracs.append(Fraction(*map(int, input().split())))\n",
    "    result = product(fracs)\n",
    "    print(*result)"
   ]
  },
  {
   "cell_type": "markdown",
   "id": "f746ce4a",
   "metadata": {},
   "source": [
    "re.findall()"
   ]
  },
  {
   "cell_type": "code",
   "execution_count": null,
   "id": "06ca64d3",
   "metadata": {},
   "outputs": [],
   "source": [
    "import re\n",
    "v = \"aeiou\"\n",
    "c = \"qwrtypsdfghjklzxcvbnm\"\n",
    "m = re.findall(r\"(?<=[%s])([%s]{2,})[%s]\" % (c, v, c), input(), flags = re.I)\n",
    "print('\\n'.join(m or ['-1']))\n"
   ]
  },
  {
   "cell_type": "markdown",
   "id": "22ef30bf",
   "metadata": {},
   "source": [
    "start() & end()"
   ]
  },
  {
   "cell_type": "code",
   "execution_count": null,
   "id": "b9ce1935",
   "metadata": {},
   "outputs": [],
   "source": [
    "import re\n",
    "string = input()\n",
    "substring = input()\n",
    "pattern = re.compile(substring)\n",
    "match = pattern.search(string)\n",
    "if not match: print('(-1, -1)')\n",
    "while match:\n",
    "    print('({0}, {1})'.format(match.start(), match.end() - 1))\n",
    "    match = pattern.search(string, match.start() + 1)"
   ]
  },
  {
   "cell_type": "markdown",
   "id": "46652ba1",
   "metadata": {},
   "source": [
    "Regex and Parsing"
   ]
  },
  {
   "cell_type": "code",
   "execution_count": null,
   "id": "702f0062",
   "metadata": {},
   "outputs": [],
   "source": [
    "from sys import stdin\n",
    "import re\n",
    "n = input()\n",
    "print(re.sub( r\"(?<= )(&&|\\|\\|)(?= )\", lambda x: \"and\" if x.group()==\"&&\" else \"or\", stdin.read()))"
   ]
  },
  {
   "cell_type": "markdown",
   "id": "5047b692",
   "metadata": {},
   "source": [
    "valdating roman numerals"
   ]
  },
  {
   "cell_type": "code",
   "execution_count": null,
   "id": "0669bc40",
   "metadata": {},
   "outputs": [],
   "source": [
    "regex_pattern = r\"M{0,3}(C[MD]|D?C{0,3})(X[CL]|L?X{0,3})(I[VX]|V?I{0,3})$\"\t  \n",
    "   \n",
    "\n",
    "import re\n",
    "print(str(bool(re.match(regex_pattern, input()))))"
   ]
  },
  {
   "cell_type": "markdown",
   "id": "0be9ff65",
   "metadata": {},
   "source": [
    "valdating phone numbers"
   ]
  },
  {
   "cell_type": "code",
   "execution_count": null,
   "id": "da7d28e8",
   "metadata": {},
   "outputs": [],
   "source": [
    "import re\n",
    "\n",
    "N = int(input())\n",
    "\n",
    "for i in range(N):\n",
    "    number = input()\n",
    "    if(len(number)==10 and number.isdigit()):\n",
    "        output = re.findall(r\"^[789]\\d{9}$\",number)\n",
    "        if(len(output)==1):\n",
    "            print(\"YES\")\n",
    "        else:\n",
    "            print(\"NO\")\n",
    "    else:\n",
    "        print(\"NO\")\n"
   ]
  },
  {
   "cell_type": "markdown",
   "id": "ed13c927",
   "metadata": {},
   "source": [
    "detect html tags & attribute"
   ]
  },
  {
   "cell_type": "code",
   "execution_count": null,
   "id": "95122872",
   "metadata": {},
   "outputs": [],
   "source": [
    "from html.parser import HTMLParser\n",
    "class MyHTMLParser(HTMLParser):\n",
    " def handle_starttag(self, tag, attrs):\n",
    "  print(tag)\n",
    "  for attr in attrs:\n",
    "      print(\"->\", attr[0], \">\", attr[1])\n",
    "N = int(input())\n",
    "raw = \"\"\n",
    "for i in range(N):\n",
    " raw += input()\n",
    "new = MyHTMLParser()\n",
    "new.feed(raw)"
   ]
  },
  {
   "cell_type": "markdown",
   "id": "1da29ff5",
   "metadata": {},
   "source": [
    "html parser part1"
   ]
  },
  {
   "cell_type": "code",
   "execution_count": null,
   "id": "870d4f23",
   "metadata": {},
   "outputs": [],
   "source": [
    "from html.parser import HTMLParser\n",
    "def read_int(): return int(input())\n",
    "def read_int_words(): return map(int,input().split())\n",
    "def pa(a):\n",
    "    for ai in a:\n",
    "        (k,v) = ai\n",
    "        print(\"->\",k.strip(),\">\",str(v).strip())\n",
    "class MyHTMLParser(HTMLParser):\n",
    "    def handle_starttag(self, tag, attrs):\n",
    "        print(\"Start :\", tag.strip())\n",
    "        pa(attrs)\n",
    "    def handle_endtag(self, tag): print(\"End   :\",tag.strip())\n",
    "    def handle_startendtag(self, tag, attrs):\n",
    "        print(\"Empty :\", tag.strip())\n",
    "        pa(attrs)\n",
    "n = int(input())\n",
    "parser = MyHTMLParser()\n",
    "for i in range(n): parser.feed(input())\n"
   ]
  },
  {
   "cell_type": "markdown",
   "id": "9c490977",
   "metadata": {},
   "source": [
    "html parser part2"
   ]
  },
  {
   "cell_type": "code",
   "execution_count": null,
   "id": "8e03a05c",
   "metadata": {},
   "outputs": [],
   "source": [
    "from html.parser import HTMLParser\n",
    "html = \"\"\n",
    "class MyHTMLParser(HTMLParser):\n",
    "    def handle_comment(self,data):\n",
    "        if('\\n' in data):\n",
    "            print(\">>> Multi-line Comment\")\n",
    "        else:\n",
    "            print(\">>> Single-line Comment\")\n",
    "        print(data)\n",
    "    def handle_data(self,data):\n",
    "        if(data != '\\n'):\n",
    "            print(\">>> Data\")\n",
    "            print(data)\n",
    "for i in range(int(input())):\n",
    "    html += input().rstrip()\n",
    "    html += '\\n'\n",
    "#print(html)    \n",
    "parser = MyHTMLParser()\n",
    "parser.feed(html)\n",
    "parser.close()\n"
   ]
  },
  {
   "cell_type": "markdown",
   "id": "d5735210",
   "metadata": {},
   "source": [
    "Hex colors code"
   ]
  },
  {
   "cell_type": "code",
   "execution_count": null,
   "id": "20f7006f",
   "metadata": {},
   "outputs": [],
   "source": [
    "import re\n",
    "for _ in range(int(input())):\n",
    "    matches = re.findall(r':?.(#[0-9a-fA-F]{6}|#[0-9a-fA-F]{3})', input())\n",
    "    if matches:\n",
    "        print(*matches, sep='\\n')\n"
   ]
  },
  {
   "cell_type": "code",
   "execution_count": null,
   "id": "b0c324ae",
   "metadata": {},
   "outputs": [],
   "source": []
  },
  {
   "cell_type": "code",
   "execution_count": null,
   "id": "0cd96a04",
   "metadata": {},
   "outputs": [],
   "source": []
  },
  {
   "cell_type": "code",
   "execution_count": null,
   "id": "71c5150e",
   "metadata": {},
   "outputs": [],
   "source": []
  }
 ],
 "metadata": {
  "kernelspec": {
   "display_name": "Python 3 (ipykernel)",
   "language": "python",
   "name": "python3"
  },
  "language_info": {
   "codemirror_mode": {
    "name": "ipython",
    "version": 3
   },
   "file_extension": ".py",
   "mimetype": "text/x-python",
   "name": "python",
   "nbconvert_exporter": "python",
   "pygments_lexer": "ipython3",
   "version": "3.9.7"
  }
 },
 "nbformat": 4,
 "nbformat_minor": 5
}
