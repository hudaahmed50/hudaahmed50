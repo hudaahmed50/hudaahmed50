{
 "cells": [
  {
   "cell_type": "code",
   "execution_count": null,
   "id": "da4191be",
   "metadata": {},
   "outputs": [],
   "source": []
  },
  {
   "cell_type": "markdown",
   "id": "36db632a",
   "metadata": {},
   "source": [
    "collections.Counter()"
   ]
  },
  {
   "cell_type": "code",
   "execution_count": null,
   "id": "f1836bbd",
   "metadata": {},
   "outputs": [],
   "source": [
    "from collections import Counter\n",
    "\n",
    "X = int(input())\n",
    "shoes = [int(val) for val in input().split()]\n",
    "N = int(input())\n",
    "\n",
    "shoe_collection = Counter(shoes)\n",
    "total_money = 0\n",
    "\n",
    "for i in range(N):\n",
    "    size, money = [int(val) for val in input().split()]\n",
    "\n",
    "    if shoe_collection.get(size):\n",
    "        total_money += money\n",
    "        shoe_collection[size] -= 1\n",
    "\n",
    "print(total_money)\n"
   ]
  },
  {
   "cell_type": "code",
   "execution_count": null,
   "id": "8a7f31a9",
   "metadata": {},
   "outputs": [],
   "source": [
    "DefaultDict"
   ]
  },
  {
   "cell_type": "code",
   "execution_count": null,
   "id": "5be8e04c",
   "metadata": {},
   "outputs": [],
   "source": [
    "from collections import defaultdict\n",
    "d = defaultdict(list)\n",
    "n, m = map(int, input().split())\n",
    "for i in range(n):\n",
    "    d[input()].append(str(i + 1))\n",
    "for j in range(m):\n",
    "    print(' '.join(d[input()]) or -1)\n"
   ]
  },
  {
   "cell_type": "code",
   "execution_count": null,
   "id": "9b910c57",
   "metadata": {},
   "outputs": [],
   "source": [
    "collections.namedtuple()"
   ]
  },
  {
   "cell_type": "code",
   "execution_count": null,
   "id": "5ff49045",
   "metadata": {},
   "outputs": [],
   "source": [
    "from collections import namedtuple\n",
    "n = int(input())\n",
    "fields = input().split()\n",
    "total_marks = 0\n",
    "for _ in range(n):\n",
    "    students = namedtuple('student', fields)\n",
    "    MARKS, CLASS, NAME, ID = input().split()\n",
    "    student = students(MARKS, CLASS, NAME, ID)\n",
    "    total_marks += int(student.MARKS)\n",
    "print('{:.2f}'.format(total_marks / n))\n"
   ]
  },
  {
   "cell_type": "code",
   "execution_count": null,
   "id": "72a8cd11",
   "metadata": {},
   "outputs": [],
   "source": [
    "Collections.OrderedDict()\n"
   ]
  },
  {
   "cell_type": "code",
   "execution_count": null,
   "id": "ce9e16df",
   "metadata": {},
   "outputs": [],
   "source": [
    "from collections import OrderedDict\n",
    "order = OrderedDict()\n",
    "for _ in range(int(input())):\n",
    "    item, space, price = input().rpartition(' ')\n",
    "    order[item] = order.get(item, 0) + int(price)\n",
    "for item, price in order.items():\n",
    "    print(item, price)\n"
   ]
  },
  {
   "cell_type": "code",
   "execution_count": null,
   "id": "35574f7a",
   "metadata": {},
   "outputs": [],
   "source": [
    "Word Order"
   ]
  },
  {
   "cell_type": "code",
   "execution_count": null,
   "id": "9834162c",
   "metadata": {},
   "outputs": [],
   "source": [
    "\n",
    "vocab = {}\n",
    "for i in range(int(input())):\n",
    "    value = input()\n",
    "    if not vocab.get(value, None):\n",
    "        vocab[value]= 1\n",
    "    else:\n",
    "        vocab[value]+= 1\n",
    "\n",
    "print(len(vocab))\n",
    "print(*vocab.values())\n"
   ]
  },
  {
   "cell_type": "code",
   "execution_count": null,
   "id": "917d94f6",
   "metadata": {},
   "outputs": [],
   "source": [
    "Collections.deque()"
   ]
  },
  {
   "cell_type": "code",
   "execution_count": null,
   "id": "91ee90ab",
   "metadata": {},
   "outputs": [],
   "source": [
    "from collections import deque\n",
    "d = deque()\n",
    "actions = {\n",
    "    \"append\":d.append, \n",
    "    \"appendleft\": d.appendleft,\n",
    "    \"pop\": d.pop,\n",
    "    \"popleft\": d.popleft\n",
    "}\n",
    "for i in range(int(input())):\n",
    "    action = input().split()\n",
    "    if len(action)>1:\n",
    "        x,y = action\n",
    "        actions[x](int(y))\n",
    "    else:\n",
    "        actions[action[0]]()\n",
    "print(*d)\n"
   ]
  },
  {
   "cell_type": "code",
   "execution_count": null,
   "id": "652746ce",
   "metadata": {},
   "outputs": [],
   "source": [
    "Collections.OrderedDict()\n",
    "\n"
   ]
  },
  {
   "cell_type": "code",
   "execution_count": null,
   "id": "38098276",
   "metadata": {},
   "outputs": [],
   "source": [
    "from collections import OrderedDict\n",
    "order = OrderedDict()\n",
    "for _ in range(int(input())):\n",
    "    item, space, price = input().rpartition(' ')\n",
    "    order[item] = order.get(item, 0) + int(price)\n",
    "for item, price in order.items():\n",
    "    print(item, price)\n"
   ]
  },
  {
   "cell_type": "code",
   "execution_count": null,
   "id": "91db2f62",
   "metadata": {},
   "outputs": [],
   "source": [
    "Company Logo"
   ]
  },
  {
   "cell_type": "code",
   "execution_count": null,
   "id": "bbd84568",
   "metadata": {},
   "outputs": [],
   "source": [
    "from collections import Counter\n",
    "S = input()\n",
    "S = sorted(S)\n",
    "FREQUENCY = Counter(list(S))\n",
    "for k, v in FREQUENCY.most_common(3):\n",
    "    print(k, v)\n"
   ]
  },
  {
   "cell_type": "code",
   "execution_count": null,
   "id": "1bf56461",
   "metadata": {},
   "outputs": [],
   "source": [
    "Piling Up!"
   ]
  },
  {
   "cell_type": "code",
   "execution_count": null,
   "id": "17405670",
   "metadata": {},
   "outputs": [],
   "source": [
    "from collections import deque\n",
    "def check(d):\n",
    "    while d:\n",
    "        big = d.popleft() if d[0]>d[-1] else d.pop()\n",
    "        if not d:\n",
    "            return \"Yes\"\n",
    "        if d[-1]>big or d[0]>big:\n",
    "            return \"No\"\n",
    "    \n",
    "for i in range(int(input())):\n",
    "    int(input())\n",
    "    d = deque(map(int,input().split()))\n",
    "    print(check(d))\n"
   ]
  },
  {
   "cell_type": "code",
   "execution_count": null,
   "id": "aba6197d",
   "metadata": {},
   "outputs": [],
   "source": []
  },
  {
   "cell_type": "code",
   "execution_count": null,
   "id": "49fa73a2",
   "metadata": {},
   "outputs": [],
   "source": []
  },
  {
   "cell_type": "code",
   "execution_count": null,
   "id": "17151bba",
   "metadata": {},
   "outputs": [],
   "source": []
  },
  {
   "cell_type": "code",
   "execution_count": null,
   "id": "1af8c805",
   "metadata": {},
   "outputs": [],
   "source": []
  }
 ],
 "metadata": {
  "kernelspec": {
   "display_name": "Python 3 (ipykernel)",
   "language": "python",
   "name": "python3"
  },
  "language_info": {
   "codemirror_mode": {
    "name": "ipython",
    "version": 3
   },
   "file_extension": ".py",
   "mimetype": "text/x-python",
   "name": "python",
   "nbconvert_exporter": "python",
   "pygments_lexer": "ipython3",
   "version": "3.9.7"
  }
 },
 "nbformat": 4,
 "nbformat_minor": 5
}
